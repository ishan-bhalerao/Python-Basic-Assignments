{
 "cells": [
  {
   "cell_type": "code",
   "execution_count": 2,
   "id": "489f4ac1-55c7-45ed-ba39-cfd8e20f809f",
   "metadata": {},
   "outputs": [
    {
     "name": "stdout",
     "output_type": "stream",
     "text": [
      "Before swapping x is 100 and y is 200\n",
      "After swapping x is 200 and y is 100\n"
     ]
    }
   ],
   "source": [
    "# Python program to swap two numbers without using temp variables\n",
    "\n",
    "x,y=100,200\n",
    "print(\"Before swapping x is\",x,\"and y is\",y)\n",
    "y,x=x,y\n",
    "print(\"After swapping x is\",x,\"and y is\",y)"
   ]
  },
  {
   "cell_type": "code",
   "execution_count": 3,
   "id": "ab247f8f-2fa4-4eec-bdfb-f6733303b21e",
   "metadata": {},
   "outputs": [
    {
     "name": "stdin",
     "output_type": "stream",
     "text": [
      "Enter the length of a rectangle: 3.6\n",
      "Enter the bredth of a rectangle: 2.8\n"
     ]
    },
    {
     "name": "stdout",
     "output_type": "stream",
     "text": [
      "Area of Rectangle is: 10.08\n"
     ]
    }
   ],
   "source": [
    "# Program to calculate Area of rectangle\n",
    "\n",
    "length=float(input(\"Enter the length of a rectangle:\"))\n",
    "bredth=float(input(\"Enter the bredth of a rectangle:\"))\n",
    "\n",
    "print(\"Area of Rectangle is:\",length * bredth)"
   ]
  },
  {
   "cell_type": "code",
   "execution_count": 5,
   "id": "9c25144b-2ce6-4a68-b382-83db033bf7fa",
   "metadata": {},
   "outputs": [
    {
     "name": "stdin",
     "output_type": "stream",
     "text": [
      "Enter temperature in celcius: 20\n"
     ]
    },
    {
     "name": "stdout",
     "output_type": "stream",
     "text": [
      "Temperature in farenhait is: 68.0\n"
     ]
    }
   ],
   "source": [
    "# python program to convert temperature to celcius farenhit\n",
    "celcius=float(input(\"Enter temperature in celcius:\"))\n",
    "ferenhait=celcius * 1.8 + 32\n",
    "print(\"Temperature in farenhait is:\",ferenhait)"
   ]
  },
  {
   "cell_type": "code",
   "execution_count": 13,
   "id": "9beafcbe-849d-4d99-883a-dc5314a0fa86",
   "metadata": {},
   "outputs": [
    {
     "name": "stdin",
     "output_type": "stream",
     "text": [
      "Enter the string: Roger\n"
     ]
    },
    {
     "name": "stdout",
     "output_type": "stream",
     "text": [
      "Length of the string is 5\n"
     ]
    }
   ],
   "source": [
    "# Python program to calculate length of a string\n",
    "\n",
    "s1=input(\"Enter the string:\")\n",
    "print(\"Length of the string is\",len(s1))"
   ]
  },
  {
   "cell_type": "code",
   "execution_count": 18,
   "id": "e74d69df-b5a7-4db6-8cdf-7bc4dd19b3b7",
   "metadata": {},
   "outputs": [
    {
     "name": "stdin",
     "output_type": "stream",
     "text": [
      "Enter the string: Ishan Bhalerao\n"
     ]
    },
    {
     "name": "stdout",
     "output_type": "stream",
     "text": [
      "No. of Vowels in a string is: 6\n"
     ]
    }
   ],
   "source": [
    "# Python program to calculates no of vowels in a string\n",
    "\n",
    "c=0\n",
    "s2=input(\"Enter the string:\")\n",
    "for i in s2:\n",
    "    if i=='a' or i=='e' or i=='i' or i=='o' or i=='u' or i=='A' or i=='E' or i=='I' or i=='O' or i=='U':\n",
    "        c=c+1\n",
    "    \n",
    "print(\"No. of Vowels in a string is:\",c)\n",
    "    "
   ]
  },
  {
   "cell_type": "code",
   "execution_count": 21,
   "id": "daeccd59-b248-4bac-9b9b-8a49eea7f1a6",
   "metadata": {},
   "outputs": [
    {
     "name": "stdin",
     "output_type": "stream",
     "text": [
      "Enter the string: John Doe\n"
     ]
    },
    {
     "name": "stdout",
     "output_type": "stream",
     "text": [
      "reverse string is eoD nhoJ\n"
     ]
    }
   ],
   "source": [
    "# Python program to revered a string\n",
    "\n",
    "s3=input(\"Enter the string:\")\n",
    "print(\"reverse string is\",s3[::-1])"
   ]
  },
  {
   "cell_type": "code",
   "execution_count": 26,
   "id": "4595a5e0-1ef2-4e81-aaef-0fcc09fc500c",
   "metadata": {},
   "outputs": [
    {
     "name": "stdin",
     "output_type": "stream",
     "text": [
      "Enter the string: nitin\n"
     ]
    },
    {
     "name": "stdout",
     "output_type": "stream",
     "text": [
      "string is palindrome\n"
     ]
    }
   ],
   "source": [
    "# Python program to check string is palindrome or not\n",
    "\n",
    "s4=input(\"Enter the string:\")\n",
    "s=s4\n",
    "s5=s4[::-1]\n",
    "if s==s5:\n",
    "    print(\"string is palindrome\")\n",
    "else:\n",
    "      print(\"string is not palindrome\")"
   ]
  },
  {
   "cell_type": "code",
   "execution_count": 29,
   "id": "ccc2dbc8-e89d-4473-835f-d5e967c65e58",
   "metadata": {},
   "outputs": [
    {
     "name": "stdin",
     "output_type": "stream",
     "text": [
      "Enter the string: my name is ishan bhalerao\n"
     ]
    },
    {
     "data": {
      "text/plain": [
       "'mynameisishanbhalerao'"
      ]
     },
     "execution_count": 29,
     "metadata": {},
     "output_type": "execute_result"
    }
   ],
   "source": [
    "# pythonprogram to prints or replaces places\n",
    "s6=input(\"Enter the string:\")\n",
    "\n",
    "s7=s6.replace(' ','')\n",
    "s7"
   ]
  },
  {
   "cell_type": "code",
   "execution_count": null,
   "id": "2d3a5f52-006a-4e08-91c6-f8a3ff730762",
   "metadata": {},
   "outputs": [],
   "source": []
  }
 ],
 "metadata": {
  "kernelspec": {
   "display_name": "Python 3 (ipykernel)",
   "language": "python",
   "name": "python3"
  },
  "language_info": {
   "codemirror_mode": {
    "name": "ipython",
    "version": 3
   },
   "file_extension": ".py",
   "mimetype": "text/x-python",
   "name": "python",
   "nbconvert_exporter": "python",
   "pygments_lexer": "ipython3",
   "version": "3.10.8"
  }
 },
 "nbformat": 4,
 "nbformat_minor": 5
}
